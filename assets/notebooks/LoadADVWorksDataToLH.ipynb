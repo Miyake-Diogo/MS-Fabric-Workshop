{
 "cells": [
  {
   "cell_type": "markdown",
   "id": "59f982ef",
   "metadata": {},
   "source": [
    "# Load Using MS Learn Script\n",
    "\n",
    "1. Run this cell Below\n",
    "\n",
    "Reference: \n",
    "- https://learn.microsoft.com/pt-br/fabric/data-science/how-to-consume-data-agent\n",
    "- https://learn.microsoft.com/pt-br/fabric/data-science/data-agent-scenario\n"
   ]
  },
  {
   "cell_type": "code",
   "execution_count": 1,
   "id": "e1026f0c-a76e-4642-9e4b-4907b833489f",
   "metadata": {
    "microsoft": {
     "language": "python",
     "language_group": "synapse_pyspark"
    }
   },
   "outputs": [
    {
     "data": {
      "application/vnd.livy.statement-meta+json": {
       "execution_finish_time": "2025-05-30T15:44:54.5956183Z",
       "execution_start_time": "2025-05-30T15:42:44.8187532Z",
       "livy_statement_state": "available",
       "normalized_state": "finished",
       "parent_msg_id": "499e81e7-0134-4710-9f7d-aef4c2907e07",
       "queued_time": "2025-05-30T15:42:31.3308238Z",
       "session_id": "31e6d638-ffde-4a62-9ae5-d5cb4901a8cb",
       "session_start_time": "2025-05-30T15:42:31.3317447Z",
       "spark_pool": null,
       "state": "finished",
       "statement_id": 3,
       "statement_ids": [
        3
       ]
      },
      "text/plain": [
       "StatementMeta(, 31e6d638-ffde-4a62-9ae5-d5cb4901a8cb, 3, Finished, Available, Finished)"
      ]
     },
     "metadata": {},
     "output_type": "display_data"
    },
    {
     "data": {
      "application/vnd.jupyter.widget-view+json": {
       "model_id": "05da2145194e422190ad0932671c9fc5",
       "version_major": 2,
       "version_minor": 0
      },
      "text/plain": [
       "  0%|          | 0/28 [00:00<?, ?it/s]"
      ]
     },
     "metadata": {},
     "output_type": "display_data"
    },
    {
     "data": {
      "application/vnd.livy.statement-meta+json": {
       "execution_finish_time": "2025-05-30T15:44:54.9264171Z",
       "execution_start_time": "2025-05-30T15:44:54.5979587Z",
       "livy_statement_state": "available",
       "normalized_state": "finished",
       "parent_msg_id": "66f5aaae-43ee-44d8-b649-042495adec1b",
       "queued_time": "2025-05-30T15:42:49.2155862Z",
       "session_id": "31e6d638-ffde-4a62-9ae5-d5cb4901a8cb",
       "session_start_time": null,
       "spark_pool": null,
       "state": "finished",
       "statement_id": 4,
       "statement_ids": [
        4
       ]
      },
      "text/plain": [
       "StatementMeta(, 31e6d638-ffde-4a62-9ae5-d5cb4901a8cb, 4, Finished, Available, Finished)"
      ]
     },
     "metadata": {},
     "output_type": "display_data"
    }
   ],
   "source": [
    "import pandas as pd\n",
    "from tqdm.auto import tqdm\n",
    "base = \"https://synapseaisolutionsa.blob.core.windows.net/public/AdventureWorks\"\n",
    "\n",
    "# load list of tables\n",
    "df_tables = pd.read_csv(f\"{base}/adventureworks.csv\", names=[\"table\"])\n",
    "\n",
    "for table in (pbar := tqdm(df_tables['table'].values)):\n",
    "    pbar.set_description(f\"Uploading {table} to lakehouse\")\n",
    "\n",
    "    # download\n",
    "    df = pd.read_parquet(f\"{base}/{table}.parquet\")\n",
    "\n",
    "    # save as lakehouse table\n",
    "    spark.createDataFrame(df).write.mode('overwrite').saveAsTable(table)"
   ]
  },
  {
   "cell_type": "code",
   "execution_count": 6,
   "id": "38ee7990-eac0-4b25-a524-123ef9b179ea",
   "metadata": {
    "microsoft": {
     "language": "python",
     "language_group": "synapse_pyspark"
    }
   },
   "outputs": [
    {
     "data": {
      "application/vnd.livy.statement-meta+json": {
       "execution_finish_time": "2025-05-30T15:55:21.5909962Z",
       "execution_start_time": "2025-05-30T15:54:37.0248676Z",
       "livy_statement_state": "available",
       "normalized_state": "finished",
       "parent_msg_id": "df6c5537-6ae1-4b99-a657-f7f9d96e7a41",
       "queued_time": "2025-05-30T15:54:37.0235949Z",
       "session_id": "31e6d638-ffde-4a62-9ae5-d5cb4901a8cb",
       "session_start_time": null,
       "spark_pool": null,
       "state": "finished",
       "statement_id": 11,
       "statement_ids": [
        11
       ]
      },
      "text/plain": [
       "StatementMeta(, 31e6d638-ffde-4a62-9ae5-d5cb4901a8cb, 11, Finished, Available, Finished)"
      ]
     },
     "metadata": {},
     "output_type": "display_data"
    },
    {
     "data": {
      "application/vnd.jupyter.widget-view+json": {
       "model_id": "b14db91c07fe48c793851e4c58d5c581",
       "version_major": 2,
       "version_minor": 0
      },
      "text/plain": [
       "  0%|          | 0/28 [00:00<?, ?it/s]"
      ]
     },
     "metadata": {},
     "output_type": "display_data"
    },
    {
     "data": {
      "application/vnd.livy.statement-meta+json": {
       "execution_finish_time": "2025-05-30T15:55:21.9573916Z",
       "execution_start_time": "2025-05-30T15:55:21.593739Z",
       "livy_statement_state": "available",
       "normalized_state": "finished",
       "parent_msg_id": "7bc89b66-93b4-445e-a205-1a9348e3fe09",
       "queued_time": "2025-05-30T15:54:39.1546456Z",
       "session_id": "31e6d638-ffde-4a62-9ae5-d5cb4901a8cb",
       "session_start_time": null,
       "spark_pool": null,
       "state": "finished",
       "statement_id": 12,
       "statement_ids": [
        12
       ]
      },
      "text/plain": [
       "StatementMeta(, 31e6d638-ffde-4a62-9ae5-d5cb4901a8cb, 12, Finished, Available, Finished)"
      ]
     },
     "metadata": {},
     "output_type": "display_data"
    }
   ],
   "source": [
    "import pandas as pd\n",
    "from tqdm.auto import tqdm\n",
    "base = \"https://synapseaisolutionsa.blob.core.windows.net/public/AdventureWorks\"\n",
    "\n",
    "# load list of tables\n",
    "df_tables = pd.read_csv(f\"{base}/adventureworks.csv\", names=[\"table\"])\n",
    "\n",
    "for table in (pbar := tqdm(df_tables['table'].values)):\n",
    "    pbar.set_description(f\"Uploading {table} to lakehouse\")\n",
    "\n",
    "    # download\n",
    "    df = pd.read_parquet(f\"{base}/{table}.parquet\")\n",
    "\n",
    "    # save as lakehouse table\n",
    "    spark.createDataFrame(df).write.mode('overwrite')\\\n",
    "          .option(\"overwriteSchema\", \"true\")\\\n",
    "          .save(f\"abfss://fabric_aiskills_demo@onelake.dfs.fabric.microsoft.com/AdvWorksLH.Lakehouse/Files/Data/{table}\")"
   ]
  },
  {
   "cell_type": "markdown",
   "id": "9c47ba86",
   "metadata": {},
   "source": [
    "# Load Manually files to Lakehouse\n",
    "\n",
    "1. Upload Parquet Files\n",
    "2. Run Cell Below"
   ]
  },
  {
   "cell_type": "code",
   "execution_count": null,
   "id": "e4908fc6",
   "metadata": {},
   "outputs": [],
   "source": [
    "# Load Lakehouse Files to Tables if they are uploaded manually. \n",
    "import os\n",
    "from pyspark.sql import SparkSession\n",
    "from notebookutils import mssparkutils\n",
    "spark.conf.set(\"spark.sql.parquet.vorder.enabled\", \"true\")\n",
    "spark.conf.set(\"spark.microsoft.delta.optimizeWrite.enabled\", \"true\")\n",
    "spark.conf.set(\"spark.microsoft.delta.optimizeWrite.binSize\", \"1073741824\")\n",
    "\n",
    "# Initialize SparkSession\n",
    "spark = SparkSession.builder.appName(\"LoadAllParquetFiles\").getOrCreate()\n",
    "\n",
    "# Define the directory containing the files #Short Path for Spark\n",
    "directory_path = \"Files\"\n",
    "\n",
    "# Get the list of all files in the directory\n",
    "file_list = [item.name for item in mssparkutils.fs.ls(directory_path)]\n",
    "\n",
    "for file_name in file_list:\n",
    "    file_path = os.path.join(directory_path, file_name)\n",
    "    \n",
    "    # Check if the file is a Parquet file\n",
    "    if file_name.endswith('.parquet'):\n",
    "        try:\n",
    "            # Create a DataFrame from the Parquet file\n",
    "            df = spark.read.format(\"parquet\").load(file_path)\n",
    "            \n",
    "            # Display the DataFrame (to ensure data is being loaded correctly)\n",
    "            # df.show()\n",
    "            \n",
    "            # Generate table name by removing file extension and replacing spaces/dashes with underscores\n",
    "            table_name = os.path.splitext(file_name)[0].replace(' ', '_').replace('-', '_')\n",
    "            \n",
    "            # Save the DataFrame to the lakehouse table\n",
    "            df.write.format(\"delta\").saveAsTable(table_name)\n",
    "        \n",
    "        except Exception as e:\n",
    "            print(f\"Failed to load {file_name}. Error: {str(e)}\")"
   ]
  },
  {
   "cell_type": "code",
   "execution_count": null,
   "id": "e6c4a07f",
   "metadata": {},
   "outputs": [],
   "source": []
  }
 ],
 "metadata": {
  "dependencies": {
   "lakehouse": {
    "default_lakehouse": "0eaec87a-a5c0-4d14-bc6d-ac79353d8471",
    "default_lakehouse_name": "AdvWorksLH",
    "default_lakehouse_workspace_id": "505e69e9-778d-4d69-80fe-46c36e5392be",
    "known_lakehouses": [
     {
      "id": "0eaec87a-a5c0-4d14-bc6d-ac79353d8471"
     }
    ]
   }
  },
  "kernel_info": {
   "name": "synapse_pyspark"
  },
  "kernelspec": {
   "display_name": "Synapse PySpark",
   "language": "Python",
   "name": "synapse_pyspark"
  },
  "language_info": {
   "name": "python"
  },
  "microsoft": {
   "language": "python",
   "language_group": "synapse_pyspark",
   "ms_spell_check": {
    "ms_spell_check_language": "en"
   }
  },
  "nteract": {
   "version": "nteract-front-end@1.0.0"
  },
  "spark_compute": {
   "compute_id": "/trident/default",
   "session_options": {
    "conf": {
     "spark.synapse.nbs.session.timeout": "1200000"
    }
   }
  },
  "widgets": {
   "application/vnd.jupyter.widget-state+json": {
    "state": {
     "04283cf420d346f793f878d9a53e6fba": {
      "model_module": "@jupyter-widgets/controls",
      "model_module_version": "2.0.0",
      "model_name": "HTMLModel",
      "state": {
       "layout": "IPY_MODEL_b5f2c042beb444028803abc2f727e549",
       "style": "IPY_MODEL_d679c49d74a84c12b9768bbf9971dca1",
       "value": "Uploading DimCustomer to lakehouse:   4%"
      }
     },
     "05da2145194e422190ad0932671c9fc5": {
      "model_module": "@jupyter-widgets/controls",
      "model_module_version": "2.0.0",
      "model_name": "HBoxModel",
      "state": {
       "children": [
        "IPY_MODEL_fb059d302552429e8e239f3be379213a",
        "IPY_MODEL_9eeb616a4e434a9ba021403824299648",
        "IPY_MODEL_115d09ff30524a02b8ac2bac7db6a154"
       ],
       "layout": "IPY_MODEL_e800819fe5f940f49994d2d43b2efa67"
      }
     },
     "085c8f0595654b59a05524f99d0c2fb3": {
      "model_module": "@jupyter-widgets/base",
      "model_module_version": "2.0.0",
      "model_name": "LayoutModel",
      "state": {}
     },
     "0c4d36ba0dd44df081e780e61109a3aa": {
      "model_module": "@jupyter-widgets/base",
      "model_module_version": "2.0.0",
      "model_name": "LayoutModel",
      "state": {}
     },
     "0d3b857fe82f480b88b6c4291d07364c": {
      "model_module": "@jupyter-widgets/controls",
      "model_module_version": "2.0.0",
      "model_name": "HBoxModel",
      "state": {
       "children": [
        "IPY_MODEL_f9524001501441388d5f46084714f200",
        "IPY_MODEL_57a74ee79b4d4282ae2466204a00dad2",
        "IPY_MODEL_b7e5a738ebf84d2db374e53c8f7fe37b"
       ],
       "layout": "IPY_MODEL_2168c8220b7347e98943e6b21010f2d1"
      }
     },
     "0fb3ff2000f94fd5aecb90a3dfd9fe98": {
      "model_module": "@jupyter-widgets/base",
      "model_module_version": "2.0.0",
      "model_name": "LayoutModel",
      "state": {}
     },
     "115d09ff30524a02b8ac2bac7db6a154": {
      "model_module": "@jupyter-widgets/controls",
      "model_module_version": "2.0.0",
      "model_name": "HTMLModel",
      "state": {
       "layout": "IPY_MODEL_f7e3fbc56a7c4c8188a99338e4f5ff5e",
       "style": "IPY_MODEL_7684d63e85794429b9a61612f759c95b",
       "value": " 28/28 [02:03&lt;00:00,  3.76s/it]"
      }
     },
     "13c9e65fdad5491e8dd924071f39b5a0": {
      "model_module": "@jupyter-widgets/controls",
      "model_module_version": "2.0.0",
      "model_name": "HTMLStyleModel",
      "state": {
       "description_width": "",
       "font_size": null,
       "text_color": null
      }
     },
     "16aab273d0cd422da013e0fe91344fb8": {
      "model_module": "@jupyter-widgets/base",
      "model_module_version": "2.0.0",
      "model_name": "LayoutModel",
      "state": {}
     },
     "2168c8220b7347e98943e6b21010f2d1": {
      "model_module": "@jupyter-widgets/base",
      "model_module_version": "2.0.0",
      "model_name": "LayoutModel",
      "state": {}
     },
     "26d7ca6ba2624da984278c97fd5952d3": {
      "model_module": "@jupyter-widgets/controls",
      "model_module_version": "2.0.0",
      "model_name": "HTMLStyleModel",
      "state": {
       "description_width": "",
       "font_size": null,
       "text_color": null
      }
     },
     "26eed387e77343b2a5bd62d9a95824bc": {
      "model_module": "@jupyter-widgets/base",
      "model_module_version": "2.0.0",
      "model_name": "LayoutModel",
      "state": {}
     },
     "29c97cb422c8412ca0e5e9fb48600eb1": {
      "model_module": "@jupyter-widgets/base",
      "model_module_version": "2.0.0",
      "model_name": "LayoutModel",
      "state": {}
     },
     "2f9ce33479e64b61b7c846e2ffcf3b2a": {
      "model_module": "@jupyter-widgets/base",
      "model_module_version": "2.0.0",
      "model_name": "LayoutModel",
      "state": {}
     },
     "30ba4bdc73cb4243a594a9764941422f": {
      "model_module": "@jupyter-widgets/controls",
      "model_module_version": "2.0.0",
      "model_name": "ProgressStyleModel",
      "state": {
       "description_width": ""
      }
     },
     "30dfe1a8c6d34c07884ce48915a4db76": {
      "model_module": "@jupyter-widgets/controls",
      "model_module_version": "2.0.0",
      "model_name": "HTMLStyleModel",
      "state": {
       "description_width": "",
       "font_size": null,
       "text_color": null
      }
     },
     "3d037d315dda41d99fc667a2f19db8ca": {
      "model_module": "@jupyter-widgets/controls",
      "model_module_version": "2.0.0",
      "model_name": "HTMLModel",
      "state": {
       "layout": "IPY_MODEL_8bd6b22b645c401eb30b88ddc72bf7f8",
       "style": "IPY_MODEL_6d1a8d9840e045d98277a3f39c02a6db",
       "value": "Uploading DimOrganization to lakehouse:  14%"
      }
     },
     "460d6f22f92c4862b8bc501e67aef31d": {
      "model_module": "@jupyter-widgets/base",
      "model_module_version": "2.0.0",
      "model_name": "LayoutModel",
      "state": {}
     },
     "47eaa025f3554f508ef9b2b89e6b2bfa": {
      "model_module": "@jupyter-widgets/controls",
      "model_module_version": "2.0.0",
      "model_name": "ProgressStyleModel",
      "state": {
       "description_width": ""
      }
     },
     "49c1ef324f1b4201b05413918a556e8c": {
      "model_module": "@jupyter-widgets/controls",
      "model_module_version": "2.0.0",
      "model_name": "HBoxModel",
      "state": {
       "children": [
        "IPY_MODEL_04283cf420d346f793f878d9a53e6fba",
        "IPY_MODEL_e4d4ce266eac4e879a3cba26270b0732",
        "IPY_MODEL_e3fd10a505ea4972b40bac1ea9f1ebaf"
       ],
       "layout": "IPY_MODEL_6cc80e172a5848968305113b9ea118d8"
      }
     },
     "4cf759a5881048b8ab3d464eaa146cdc": {
      "model_module": "@jupyter-widgets/base",
      "model_module_version": "2.0.0",
      "model_name": "LayoutModel",
      "state": {}
     },
     "51ea112d45a8430b8afc925de4514634": {
      "model_module": "@jupyter-widgets/base",
      "model_module_version": "2.0.0",
      "model_name": "LayoutModel",
      "state": {}
     },
     "5398012627df47c9b3a05a4c1daa069e": {
      "model_module": "@jupyter-widgets/base",
      "model_module_version": "2.0.0",
      "model_name": "LayoutModel",
      "state": {}
     },
     "551e7dfc60d3428d8590727f9fd230a2": {
      "model_module": "@jupyter-widgets/controls",
      "model_module_version": "2.0.0",
      "model_name": "HTMLStyleModel",
      "state": {
       "description_width": "",
       "font_size": null,
       "text_color": null
      }
     },
     "55f2f5599887470ca3fe8cde349a3e0d": {
      "model_module": "@jupyter-widgets/controls",
      "model_module_version": "2.0.0",
      "model_name": "HTMLStyleModel",
      "state": {
       "description_width": "",
       "font_size": null,
       "text_color": null
      }
     },
     "57a74ee79b4d4282ae2466204a00dad2": {
      "model_module": "@jupyter-widgets/controls",
      "model_module_version": "2.0.0",
      "model_name": "FloatProgressModel",
      "state": {
       "bar_style": "danger",
       "layout": "IPY_MODEL_0fb3ff2000f94fd5aecb90a3dfd9fe98",
       "max": 28,
       "style": "IPY_MODEL_47eaa025f3554f508ef9b2b89e6b2bfa",
       "value": 22
      }
     },
     "6b36c58c382742198425cb00d7591e7e": {
      "model_module": "@jupyter-widgets/controls",
      "model_module_version": "2.0.0",
      "model_name": "HTMLStyleModel",
      "state": {
       "description_width": "",
       "font_size": null,
       "text_color": null
      }
     },
     "6cc80e172a5848968305113b9ea118d8": {
      "model_module": "@jupyter-widgets/base",
      "model_module_version": "2.0.0",
      "model_name": "LayoutModel",
      "state": {}
     },
     "6d1a8d9840e045d98277a3f39c02a6db": {
      "model_module": "@jupyter-widgets/controls",
      "model_module_version": "2.0.0",
      "model_name": "HTMLStyleModel",
      "state": {
       "description_width": "",
       "font_size": null,
       "text_color": null
      }
     },
     "71c50146bf26465b9e905ef0f99cad78": {
      "model_module": "@jupyter-widgets/base",
      "model_module_version": "2.0.0",
      "model_name": "LayoutModel",
      "state": {}
     },
     "7684d63e85794429b9a61612f759c95b": {
      "model_module": "@jupyter-widgets/controls",
      "model_module_version": "2.0.0",
      "model_name": "HTMLStyleModel",
      "state": {
       "description_width": "",
       "font_size": null,
       "text_color": null
      }
     },
     "8544a5cf7d1d4f94affda112ca1d3b3f": {
      "model_module": "@jupyter-widgets/base",
      "model_module_version": "2.0.0",
      "model_name": "LayoutModel",
      "state": {}
     },
     "878a30d065f240e4b42dfa0ffe8f8d96": {
      "model_module": "@jupyter-widgets/base",
      "model_module_version": "2.0.0",
      "model_name": "LayoutModel",
      "state": {}
     },
     "8af9345010354822b3df77c565a41533": {
      "model_module": "@jupyter-widgets/base",
      "model_module_version": "2.0.0",
      "model_name": "LayoutModel",
      "state": {}
     },
     "8bd6b22b645c401eb30b88ddc72bf7f8": {
      "model_module": "@jupyter-widgets/base",
      "model_module_version": "2.0.0",
      "model_name": "LayoutModel",
      "state": {}
     },
     "90f0d825d7d64c86a07cafc682c14419": {
      "model_module": "@jupyter-widgets/controls",
      "model_module_version": "2.0.0",
      "model_name": "HTMLStyleModel",
      "state": {
       "description_width": "",
       "font_size": null,
       "text_color": null
      }
     },
     "94c85a86527d41809cedafe5b0c9bafe": {
      "model_module": "@jupyter-widgets/controls",
      "model_module_version": "2.0.0",
      "model_name": "HTMLModel",
      "state": {
       "layout": "IPY_MODEL_29c97cb422c8412ca0e5e9fb48600eb1",
       "style": "IPY_MODEL_26d7ca6ba2624da984278c97fd5952d3",
       "value": "Uploading FactSalesQuota to lakehouse: 100%"
      }
     },
     "98aac473e76e4467902880c9600ad6c4": {
      "model_module": "@jupyter-widgets/controls",
      "model_module_version": "2.0.0",
      "model_name": "HTMLModel",
      "state": {
       "layout": "IPY_MODEL_0c4d36ba0dd44df081e780e61109a3aa",
       "style": "IPY_MODEL_db8fce9579e44d3f90b4726016e7ddda",
       "value": " 4/28 [00:08&lt;00:42,  1.77s/it]"
      }
     },
     "9a1b500608d641539d166cfba0d21ea8": {
      "model_module": "@jupyter-widgets/controls",
      "model_module_version": "2.0.0",
      "model_name": "ProgressStyleModel",
      "state": {
       "description_width": ""
      }
     },
     "9eeb616a4e434a9ba021403824299648": {
      "model_module": "@jupyter-widgets/controls",
      "model_module_version": "2.0.0",
      "model_name": "FloatProgressModel",
      "state": {
       "bar_style": "success",
       "layout": "IPY_MODEL_8544a5cf7d1d4f94affda112ca1d3b3f",
       "max": 28,
       "style": "IPY_MODEL_d3f97c3373944107bef37fb2fcfb1a87",
       "value": 28
      }
     },
     "b14db91c07fe48c793851e4c58d5c581": {
      "model_module": "@jupyter-widgets/controls",
      "model_module_version": "2.0.0",
      "model_name": "HBoxModel",
      "state": {
       "children": [
        "IPY_MODEL_94c85a86527d41809cedafe5b0c9bafe",
        "IPY_MODEL_e6f9506a1e2a49849b4c06b77395f0f2",
        "IPY_MODEL_fa289faee50a43a784e8d67d70e77b94"
       ],
       "layout": "IPY_MODEL_460d6f22f92c4862b8bc501e67aef31d"
      }
     },
     "b5f2c042beb444028803abc2f727e549": {
      "model_module": "@jupyter-widgets/base",
      "model_module_version": "2.0.0",
      "model_name": "LayoutModel",
      "state": {}
     },
     "b7e5a738ebf84d2db374e53c8f7fe37b": {
      "model_module": "@jupyter-widgets/controls",
      "model_module_version": "2.0.0",
      "model_name": "HTMLModel",
      "state": {
       "layout": "IPY_MODEL_baf5682dc9814e378d69ef3883b7cefe",
       "style": "IPY_MODEL_c9e8923f304b4fe5b7069339c69455de",
       "value": " 22/28 [01:12&lt;00:17,  2.87s/it]"
      }
     },
     "ba6af243bbe8486fa81891c42367c333": {
      "model_module": "@jupyter-widgets/base",
      "model_module_version": "2.0.0",
      "model_name": "LayoutModel",
      "state": {}
     },
     "baf5682dc9814e378d69ef3883b7cefe": {
      "model_module": "@jupyter-widgets/base",
      "model_module_version": "2.0.0",
      "model_name": "LayoutModel",
      "state": {}
     },
     "c1b090f1bdc64f6d98d55696c6a670d5": {
      "model_module": "@jupyter-widgets/controls",
      "model_module_version": "2.0.0",
      "model_name": "HBoxModel",
      "state": {
       "children": [
        "IPY_MODEL_3d037d315dda41d99fc667a2f19db8ca",
        "IPY_MODEL_da59ee64eed8437b86be54f29b0cff50",
        "IPY_MODEL_98aac473e76e4467902880c9600ad6c4"
       ],
       "layout": "IPY_MODEL_ba6af243bbe8486fa81891c42367c333"
      }
     },
     "c1d09a503233403eaad4b3223dcb325b": {
      "model_module": "@jupyter-widgets/controls",
      "model_module_version": "2.0.0",
      "model_name": "HTMLModel",
      "state": {
       "layout": "IPY_MODEL_71c50146bf26465b9e905ef0f99cad78",
       "style": "IPY_MODEL_90f0d825d7d64c86a07cafc682c14419",
       "value": " 3/28 [00:12&lt;01:20,  3.22s/it]"
      }
     },
     "c9e8923f304b4fe5b7069339c69455de": {
      "model_module": "@jupyter-widgets/controls",
      "model_module_version": "2.0.0",
      "model_name": "HTMLStyleModel",
      "state": {
       "description_width": "",
       "font_size": null,
       "text_color": null
      }
     },
     "d3f97c3373944107bef37fb2fcfb1a87": {
      "model_module": "@jupyter-widgets/controls",
      "model_module_version": "2.0.0",
      "model_name": "ProgressStyleModel",
      "state": {
       "description_width": ""
      }
     },
     "d679c49d74a84c12b9768bbf9971dca1": {
      "model_module": "@jupyter-widgets/controls",
      "model_module_version": "2.0.0",
      "model_name": "HTMLStyleModel",
      "state": {
       "description_width": "",
       "font_size": null,
       "text_color": null
      }
     },
     "da59ee64eed8437b86be54f29b0cff50": {
      "model_module": "@jupyter-widgets/controls",
      "model_module_version": "2.0.0",
      "model_name": "FloatProgressModel",
      "state": {
       "bar_style": "danger",
       "layout": "IPY_MODEL_4cf759a5881048b8ab3d464eaa146cdc",
       "max": 28,
       "style": "IPY_MODEL_30ba4bdc73cb4243a594a9764941422f",
       "value": 4
      }
     },
     "db8fce9579e44d3f90b4726016e7ddda": {
      "model_module": "@jupyter-widgets/controls",
      "model_module_version": "2.0.0",
      "model_name": "HTMLStyleModel",
      "state": {
       "description_width": "",
       "font_size": null,
       "text_color": null
      }
     },
     "e38ebc1d828845cb901959ecd0839e04": {
      "model_module": "@jupyter-widgets/controls",
      "model_module_version": "2.0.0",
      "model_name": "ProgressStyleModel",
      "state": {
       "description_width": ""
      }
     },
     "e3fd10a505ea4972b40bac1ea9f1ebaf": {
      "model_module": "@jupyter-widgets/controls",
      "model_module_version": "2.0.0",
      "model_name": "HTMLModel",
      "state": {
       "layout": "IPY_MODEL_085c8f0595654b59a05524f99d0c2fb3",
       "style": "IPY_MODEL_551e7dfc60d3428d8590727f9fd230a2",
       "value": " 1/28 [00:04&lt;01:38,  3.66s/it]"
      }
     },
     "e4d4ce266eac4e879a3cba26270b0732": {
      "model_module": "@jupyter-widgets/controls",
      "model_module_version": "2.0.0",
      "model_name": "FloatProgressModel",
      "state": {
       "bar_style": "danger",
       "layout": "IPY_MODEL_2f9ce33479e64b61b7c846e2ffcf3b2a",
       "max": 28,
       "style": "IPY_MODEL_e38ebc1d828845cb901959ecd0839e04",
       "value": 1
      }
     },
     "e6f9506a1e2a49849b4c06b77395f0f2": {
      "model_module": "@jupyter-widgets/controls",
      "model_module_version": "2.0.0",
      "model_name": "FloatProgressModel",
      "state": {
       "bar_style": "success",
       "layout": "IPY_MODEL_878a30d065f240e4b42dfa0ffe8f8d96",
       "max": 28,
       "style": "IPY_MODEL_e77f138cf0914dde91565d61b43a8c15",
       "value": 28
      }
     },
     "e77f138cf0914dde91565d61b43a8c15": {
      "model_module": "@jupyter-widgets/controls",
      "model_module_version": "2.0.0",
      "model_name": "ProgressStyleModel",
      "state": {
       "description_width": ""
      }
     },
     "e800819fe5f940f49994d2d43b2efa67": {
      "model_module": "@jupyter-widgets/base",
      "model_module_version": "2.0.0",
      "model_name": "LayoutModel",
      "state": {}
     },
     "f49c9c5b6a934606ba2200eeb0a252b4": {
      "model_module": "@jupyter-widgets/controls",
      "model_module_version": "2.0.0",
      "model_name": "HTMLModel",
      "state": {
       "layout": "IPY_MODEL_faac33a334b1401a8382f2859c3f31b9",
       "style": "IPY_MODEL_55f2f5599887470ca3fe8cde349a3e0d",
       "value": "Uploading DimAccount to lakehouse:  11%"
      }
     },
     "f4fdfcb605764c57b4488d58a466babc": {
      "model_module": "@jupyter-widgets/controls",
      "model_module_version": "2.0.0",
      "model_name": "HBoxModel",
      "state": {
       "children": [
        "IPY_MODEL_f49c9c5b6a934606ba2200eeb0a252b4",
        "IPY_MODEL_f634964c274b416a9c584136d85a7448",
        "IPY_MODEL_c1d09a503233403eaad4b3223dcb325b"
       ],
       "layout": "IPY_MODEL_51ea112d45a8430b8afc925de4514634"
      }
     },
     "f634964c274b416a9c584136d85a7448": {
      "model_module": "@jupyter-widgets/controls",
      "model_module_version": "2.0.0",
      "model_name": "FloatProgressModel",
      "state": {
       "bar_style": "danger",
       "layout": "IPY_MODEL_26eed387e77343b2a5bd62d9a95824bc",
       "max": 28,
       "style": "IPY_MODEL_9a1b500608d641539d166cfba0d21ea8",
       "value": 3
      }
     },
     "f7e3fbc56a7c4c8188a99338e4f5ff5e": {
      "model_module": "@jupyter-widgets/base",
      "model_module_version": "2.0.0",
      "model_name": "LayoutModel",
      "state": {}
     },
     "f9524001501441388d5f46084714f200": {
      "model_module": "@jupyter-widgets/controls",
      "model_module_version": "2.0.0",
      "model_name": "HTMLModel",
      "state": {
       "layout": "IPY_MODEL_5398012627df47c9b3a05a4c1daa069e",
       "style": "IPY_MODEL_13c9e65fdad5491e8dd924071f39b5a0",
       "value": "Uploading DimSalesTerritory to lakehouse:  79%"
      }
     },
     "fa289faee50a43a784e8d67d70e77b94": {
      "model_module": "@jupyter-widgets/controls",
      "model_module_version": "2.0.0",
      "model_name": "HTMLModel",
      "state": {
       "layout": "IPY_MODEL_8af9345010354822b3df77c565a41533",
       "style": "IPY_MODEL_30dfe1a8c6d34c07884ce48915a4db76",
       "value": " 28/28 [00:43&lt;00:00,  1.43s/it]"
      }
     },
     "faac33a334b1401a8382f2859c3f31b9": {
      "model_module": "@jupyter-widgets/base",
      "model_module_version": "2.0.0",
      "model_name": "LayoutModel",
      "state": {}
     },
     "fb059d302552429e8e239f3be379213a": {
      "model_module": "@jupyter-widgets/controls",
      "model_module_version": "2.0.0",
      "model_name": "HTMLModel",
      "state": {
       "layout": "IPY_MODEL_16aab273d0cd422da013e0fe91344fb8",
       "style": "IPY_MODEL_6b36c58c382742198425cb00d7591e7e",
       "value": "Uploading FactSalesQuota to lakehouse: 100%"
      }
     }
    },
    "version_major": 2,
    "version_minor": 0
   }
  }
 },
 "nbformat": 4,
 "nbformat_minor": 5
}
